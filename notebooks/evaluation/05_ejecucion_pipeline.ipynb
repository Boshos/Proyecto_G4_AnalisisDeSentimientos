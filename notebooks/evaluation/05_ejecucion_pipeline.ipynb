{
  "nbformat": 4,
  "nbformat_minor": 0,
  "metadata": {
    "colab": {
      "provenance": []
    },
    "kernelspec": {
      "name": "python3",
      "display_name": "Python 3"
    },
    "language_info": {
      "name": "python"
    }
  },
  "cells": [
    {
      "cell_type": "markdown",
      "source": [
        "Montar Google Drive"
      ],
      "metadata": {
        "id": "R71XeKu2x2pO"
      }
    },
    {
      "cell_type": "code",
      "source": [
        "from google.colab import drive\n",
        "drive.mount(\"/content/drive\", force_remount=True)\n",
        "# Cambia a la carpeta raíz del proyecto\n",
        "%cd /content/drive/MyDrive/Proyecto_Analisis_de_Sentimientos_G4\n",
        "!pwd && ls -la # Muestra la ruta actual y la lista de archivos\n"
      ],
      "metadata": {
        "colab": {
          "base_uri": "https://localhost:8080/"
        },
        "id": "lmny05wBlyJH",
        "outputId": "8824be50-295b-4b45-ca60-37cc4674179b"
      },
      "execution_count": 1,
      "outputs": [
        {
          "output_type": "stream",
          "name": "stdout",
          "text": [
            "Mounted at /content/drive\n",
            "/content/drive/MyDrive/Proyecto_Analisis_de_Sentimientos_G4\n",
            "/content/drive/MyDrive/Proyecto_Analisis_de_Sentimientos_G4\n",
            "total 30\n",
            "drwx------ 2 root root 4096 Aug 15 06:59 api\n",
            "-rw------- 1 root root 1086 Aug 15 08:16 api.log\n",
            "drwx------ 2 root root 4096 Aug 15 08:16 dashboard\n",
            "-rw------- 1 root root  273 Aug 15 07:54 dash.log\n",
            "drwx------ 2 root root 4096 Aug 13 01:12 data\n",
            "drwx------ 2 root root 4096 Aug 13 03:32 docs\n",
            "drwx------ 2 root root 4096 Aug 13 03:32 models\n",
            "drwx------ 2 root root 4096 Aug 13 03:32 notebooks\n",
            "drwx------ 2 root root 4096 Aug 15 06:23 src\n"
          ]
        }
      ]
    },
    {
      "cell_type": "markdown",
      "source": [
        "Verificar carpetas"
      ],
      "metadata": {
        "id": "v3anqu9HyBiY"
      }
    },
    {
      "cell_type": "code",
      "source": [
        "from src.utils.config_rutas import reports_dir # Importa la ruta de la carpeta de reportes\n",
        "print(\"reports_dir ->\", reports_dir.resolve())\n",
        "!ls -la \"{reports_dir}\" # Muestra el contenido de la carpeta de reportes\n"
      ],
      "metadata": {
        "colab": {
          "base_uri": "https://localhost:8080/"
        },
        "id": "SPiBWVgll6SY",
        "outputId": "53f3c6b8-a777-4bb4-ba73-235264422897"
      },
      "execution_count": 2,
      "outputs": [
        {
          "output_type": "stream",
          "name": "stdout",
          "text": [
            "reports_dir -> /content/drive/MyDrive/Proyecto_Analisis_de_Sentimientos_G4/docs/reports\n",
            "total 952\n",
            "-rw------- 1 root root  50126 Aug 15 07:54 alerts_log.csv\n",
            "-rw------- 1 root root 924461 Aug 15 07:54 results_log.csv\n"
          ]
        }
      ]
    },
    {
      "cell_type": "markdown",
      "source": [
        "Instalar dependencias"
      ],
      "metadata": {
        "id": "vSdZ-04eyJa1"
      }
    },
    {
      "cell_type": "code",
      "source": [
        "!pip -q install fastapi \"uvicorn[standard]\" pydantic requests pandas streamlit altair wordcloud pyngrok\n"
      ],
      "metadata": {
        "id": "Ex1CvH4Pl70i"
      },
      "execution_count": 3,
      "outputs": []
    },
    {
      "cell_type": "markdown",
      "source": [
        "Iniciar API (FastAPI)"
      ],
      "metadata": {
        "id": "O_Wza23DyMsY"
      }
    },
    {
      "cell_type": "code",
      "source": [
        "# limpia: mata uvicorn y libera puerto 8000\n",
        "!pkill -f uvicorn || true\n",
        "!fuser -n tcp 8000 -k 2>/dev/null || true\n",
        "\n",
        "# arranca uvicorn (app dentro de api/api.py)\n",
        "!PYTHONPATH=. nohup uvicorn api.api:app --host 0.0.0.0 --port 8000 --reload > api.log 2>&1 &\n",
        "!sleep 2 # Espera 2 segundos para que arranque\n",
        "!tail -n 80 api.log # Muestra las últimas líneas del log\n"
      ],
      "metadata": {
        "colab": {
          "base_uri": "https://localhost:8080/"
        },
        "id": "0AVOcAyGl9up",
        "outputId": "f37c9d44-9dd3-48ea-e350-2ba0599d3794"
      },
      "execution_count": 4,
      "outputs": [
        {
          "output_type": "stream",
          "name": "stdout",
          "text": [
            "^C\n",
            "INFO:     Will watch for changes in these directories: ['/content/drive/MyDrive/Proyecto_Analisis_de_Sentimientos_G4']\n",
            "INFO:     Uvicorn running on http://0.0.0.0:8000 (Press CTRL+C to quit)\n",
            "INFO:     Started reloader process [104300] using WatchFiles\n"
          ]
        }
      ]
    },
    {
      "cell_type": "markdown",
      "source": [
        "Verificar API"
      ],
      "metadata": {
        "id": "BPyIymOxyYQb"
      }
    },
    {
      "cell_type": "code",
      "source": [
        "import time, requests\n",
        "BASE = \"http://127.0.0.1:8000\"\n",
        "\n",
        "ok = False\n",
        "for _ in range(10):  # Intenta hasta 10 veces\n",
        "    try:\n",
        "        print(requests.get(f\"{BASE}/health\", timeout=3).json())\n",
        "        ok = True\n",
        "        break\n",
        "    except Exception:\n",
        "        time.sleep(1) #Se espera cada 1 segundo y vuelve a intentar\n",
        "\n",
        "print(\"API_OK:\", ok)\n"
      ],
      "metadata": {
        "colab": {
          "base_uri": "https://localhost:8080/"
        },
        "id": "5qfBaWqDl_ko",
        "outputId": "f6e14742-2fd0-4786-eb71-9ce5b816e00c"
      },
      "execution_count": 5,
      "outputs": [
        {
          "output_type": "stream",
          "name": "stdout",
          "text": [
            "{'status': 'ok'}\n",
            "API_OK: True\n"
          ]
        }
      ]
    },
    {
      "cell_type": "markdown",
      "source": [
        "\n",
        "\n",
        "Procesar CSV con /bath\n",
        "\n"
      ],
      "metadata": {
        "id": "ISn_zuXblw7l"
      }
    },
    {
      "cell_type": "code",
      "source": [
        "import requests, json\n",
        "\n",
        "payload = {\n",
        "    \"csv_path\": \"/content/drive/MyDrive/Proyecto_Analisis_de_Sentimientos_G4/data/raw/amazon_reviews_limpio_balanceado.csv\",  # <-- ajusta si usas otro\n",
        "    \"text_col\": \"text\", # Columna del CSV que contiene el texto a analizar\n",
        "    \"max_rows\": 500     # Número máximo de filas a procesar\n",
        "}\n",
        "try:\n",
        "    r = requests.post(f\"{BASE}/batch\", json=payload, timeout=120)\n",
        "    print(\"status:\", r.status_code)\n",
        "    print(r.text[:600])  #Muestra los primeros 600 caracteres de la respuest\n",
        "except Exception as e:\n",
        "    print(\"ERROR:\", e)\n"
      ],
      "metadata": {
        "colab": {
          "base_uri": "https://localhost:8080/"
        },
        "id": "bvJwIhpNlxkb",
        "outputId": "44761e95-f3be-4556-da60-d13b554e15dd"
      },
      "execution_count": 6,
      "outputs": [
        {
          "output_type": "stream",
          "name": "stdout",
          "text": [
            "status: 200\n",
            "{\"ok\":true,\"processed\":500,\"neg_high_alerts\":41,\"results_csv\":\"/content/drive/MyDrive/Proyecto_Analisis_de_Sentimientos_G4/docs/reports/results_log.csv\",\"alerts_csv\":\"/content/drive/MyDrive/Proyecto_Analisis_de_Sentimientos_G4/docs/reports/alerts_log.csv\"}\n"
          ]
        }
      ]
    },
    {
      "cell_type": "markdown",
      "source": [
        "Iniciar con el dashboard"
      ],
      "metadata": {
        "id": "SKxmZqXQmUOa"
      }
    },
    {
      "cell_type": "code",
      "source": [
        "# desde la raíz del proyecto\n",
        "%cd /content/drive/MyDrive/Proyecto_Analisis_de_Sentimientos_G4\n",
        "\n",
        "# cierra streamlit previo (si lo hubiera)\n",
        "!pkill -f streamlit || true\n",
        "\n",
        "# arranca el dashboard\n",
        "%cd dashboard\n",
        "!nohup streamlit run dashboard_app.py --server.headless true --server.port 8501 > ../dash.log 2>&1 &\n",
        "\n",
        "# muestra el log\n",
        "!sleep 3\n",
        "!tail -n 60 ../dash.log\n"
      ],
      "metadata": {
        "colab": {
          "base_uri": "https://localhost:8080/"
        },
        "id": "qg5bSY6AmrIu",
        "outputId": "03580715-0787-427e-f4b2-4f67fc517dfe"
      },
      "execution_count": 7,
      "outputs": [
        {
          "output_type": "stream",
          "name": "stdout",
          "text": [
            "/content/drive/MyDrive/Proyecto_Analisis_de_Sentimientos_G4\n",
            "^C\n",
            "/content/drive/MyDrive/Proyecto_Analisis_de_Sentimientos_G4/dashboard\n",
            "\n",
            "Collecting usage statistics. To deactivate, set browser.gatherUsageStats to false.\n",
            "\n",
            "\n",
            "  You can now view your Streamlit app in your browser.\n",
            "\n",
            "  Local URL: http://localhost:8501\n",
            "  Network URL: http://172.28.0.12:8501\n",
            "  External URL: http://34.135.81.158:8501\n",
            "\n"
          ]
        }
      ]
    },
    {
      "cell_type": "markdown",
      "source": [
        "Exponer el dashboard con ngrok"
      ],
      "metadata": {
        "id": "J2VVdnCYy3kn"
      }
    },
    {
      "cell_type": "code",
      "source": [
        "# Asegura que Streamlit está corriendo en 8501\n",
        "%cd /content/drive/MyDrive/Proyecto_Analisis_de_Sentimientos_G4/dashboard\n",
        "!pkill -f streamlit || true\n",
        "!nohup streamlit run dashboard_app.py --server.headless true --server.address 0.0.0.0 --server.port 8501 > dash.log 2>&1 &\n",
        "!sleep 3\n",
        "!tail -n 20 dash.log\n",
        "!curl -sSf http://127.0.0.1:8501/ | head -n 3\n"
      ],
      "metadata": {
        "colab": {
          "base_uri": "https://localhost:8080/"
        },
        "id": "u2FJWPsD5BPn",
        "outputId": "1f23cc95-fb44-4f13-9c8c-9233b519f4a2"
      },
      "execution_count": 8,
      "outputs": [
        {
          "output_type": "stream",
          "name": "stdout",
          "text": [
            "/content/drive/MyDrive/Proyecto_Analisis_de_Sentimientos_G4/dashboard\n",
            "^C\n",
            "\n",
            "Collecting usage statistics. To deactivate, set browser.gatherUsageStats to false.\n",
            "\n",
            "\n",
            "  You can now view your Streamlit app in your browser.\n",
            "\n",
            "  URL: http://0.0.0.0:8501\n",
            "\n",
            "<!--\n",
            " Copyright (c) Streamlit Inc. (2018-2022) Snowflake Inc. (2022-2025)\n",
            "\n"
          ]
        }
      ]
    },
    {
      "cell_type": "code",
      "source": [
        "# 2) Abre túnel ngrok SIN headers\n",
        "!pip -q install pyngrok\n",
        "from pyngrok import ngrok\n",
        "\n",
        "ngrok.set_auth_token(\"31IvUnxPlx03CNgeXZV9klNJyqb_7VvQMQXFhbThH8T11nyt2\")   # pega tu token\n",
        "# cierra túneles previos\n",
        "for t in ngrok.get_tunnels():\n",
        "    ngrok.disconnect(t.public_url)\n",
        "\n",
        "public_url = ngrok.connect(8501, bind_tls=True)  # <- SIN request_header\n",
        "public_url\n"
      ],
      "metadata": {
        "colab": {
          "base_uri": "https://localhost:8080/"
        },
        "id": "yjHZKdgH5CsD",
        "outputId": "a00146f3-4511-40a0-c8ad-4b588df6bb17"
      },
      "execution_count": 9,
      "outputs": [
        {
          "output_type": "execute_result",
          "data": {
            "text/plain": [
              "<NgrokTunnel: \"https://a58cf4815eaa.ngrok-free.app\" -> \"http://localhost:8501\">"
            ]
          },
          "metadata": {},
          "execution_count": 9
        }
      ]
    },
    {
      "cell_type": "markdown",
      "source": [
        "\n",
        "\n",
        "---\n",
        "\n"
      ],
      "metadata": {
        "id": "wxPE4rU5WKxN"
      }
    }
  ]
}